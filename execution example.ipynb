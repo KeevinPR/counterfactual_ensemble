{
 "cells": [
  {
   "cell_type": "code",
   "execution_count": 1,
   "metadata": {},
   "outputs": [
    {
     "name": "stderr",
     "output_type": "stream",
     "text": [
      "C:\\Users\\Pollo\\AppData\\Local\\Temp\\ipykernel_15796\\1478943656.py:3: DeprecationWarning: \n",
      "Pyarrow will become a required dependency of pandas in the next major release of pandas (pandas 3.0),\n",
      "(to allow more performant data types, such as the Arrow string type, and better interoperability with other libraries)\n",
      "but was too old on your system - pyarrow 10.0.1 is the current minimum supported version as of this release.\n",
      "If this would cause problems for you,\n",
      "please provide us feedback at https://github.com/pandas-dev/pandas/issues/54466\n",
      "        \n",
      "  import pandas as pd\n"
     ]
    }
   ],
   "source": [
    "# Necesary imports\n",
    "import numpy as np\n",
    "import pandas as pd\n",
    "from ucimlrepo import fetch_ucirepo\n",
    "from sklearn.model_selection import train_test_split\n",
    "import random\n",
    "from statistics import mean \n",
    "from ensemble_counterfactuals.common_funcs import train_models\n",
    "from ensemble_counterfactuals.algorithms import ga, eda, moeda, nsga2, ebna, moebna"
   ]
  },
  {
   "cell_type": "code",
   "execution_count": 2,
   "metadata": {},
   "outputs": [],
   "source": [
    "# Importing a dataset from uci machine learning repository as an example\n",
    "nursery = fetch_ucirepo(id=19) \n",
    "\n",
    "X = nursery.data.features \n",
    "y = nursery.data.targets \n",
    "\n",
    "X['class'] = y['class']\n",
    "class_values = y['class'].unique()\n",
    "one_sol = False\n",
    "obj_class = 'spec_prior'\n",
    "\n",
    "discrete_variables = [True,True,True,True,True,True]\n",
    "#discrete_variables = None"
   ]
  },
  {
   "cell_type": "code",
   "execution_count": 3,
   "metadata": {},
   "outputs": [],
   "source": [
    "# Train and test split\n",
    "train_df, test_df = train_test_split(X, test_size=0.1,random_state=188574)"
   ]
  },
  {
   "cell_type": "code",
   "execution_count": 4,
   "metadata": {},
   "outputs": [
    {
     "data": {
      "text/plain": [
       "173"
      ]
     },
     "execution_count": 4,
     "metadata": {},
     "output_type": "execute_result"
    }
   ],
   "source": [
    "len(test_df)"
   ]
  },
  {
   "cell_type": "code",
   "execution_count": 5,
   "metadata": {},
   "outputs": [
    {
     "name": "stdout",
     "output_type": "stream",
     "text": [
      "['high' 'vhigh' '5more' 'more' 'small' 'low' 'unacc']\n"
     ]
    }
   ],
   "source": [
    "print(test_df.values[2])"
   ]
  },
  {
   "cell_type": "code",
   "execution_count": 6,
   "metadata": {},
   "outputs": [],
   "source": [
    "# Train the models with the train and test\n",
    "train_models(train_df,test_df)"
   ]
  },
  {
   "cell_type": "code",
   "execution_count": 7,
   "metadata": {},
   "outputs": [
    {
     "name": "stdout",
     "output_type": "stream",
     "text": [
      "Instance number: 2\n",
      "['high' 'vhigh' '5more' 'more' 'small' 'low' 'unacc']\n",
      "Modelo: nb Sol: unacc \n",
      "Modelo: tn Sol: unacc \n",
      "Modelo: fssj Sol: unacc \n",
      "Modelo: kdb Sol: unacc \n",
      "Modelo: tanhc Sol: unacc \n",
      "Modelo: nb Sol: 0.8323699 \n",
      "Modelo: tn Sol: 0.9248555 \n",
      "Modelo: fssj Sol: 0.6936416 \n",
      "Modelo: kdb Sol: 0.9595376 \n",
      "Modelo: tanhc Sol: 0.9421965 \n",
      "['nb', 'tn', 'fssj', 'kdb', 'tanhc']\n",
      "\tNFEVALS = 300 F = 0.13888888888888887\n",
      "\tX = [1 3 1 2 2 0 3]\n",
      "\tNFEVALS = 260 F = 0.13888888888888887\n",
      "\tX = [1 3 1 2 2 0 3]\n",
      "\tNFEVALS = 300 F = 100.0\n",
      "\tX = [0 3 1 2 2 1 3]\n",
      "\tNFEVALS = 300 F = 0.19444444444444442\n",
      "\tX = [0 2 0 2 2 0 1]\n",
      "\tNFEVALS = 360 F = 0.13888888888888887\n",
      "\tX = [0 2 1 2 2 0 0]\n",
      "Media tiempos: 1.7109545707702636\n"
     ]
    }
   ],
   "source": [
    "# Execution example\n",
    "# Change the instance number, objective class and the line after the comment\n",
    "instance_number = 2\n",
    "obj_class = \"acc\"\n",
    "results = []\n",
    "dfs = []\n",
    "times = []\n",
    "print(f'Instance number: {instance_number}')\n",
    "cls_val = np.delete(class_values, np.where(class_values == test_df.values[instance_number][-1]))\n",
    "print(test_df.values[instance_number])\n",
    "# Change eda.ensemble_coiunter_eda with each possible algorithm, all have the same attributes\n",
    "df, rem_models, accuracy,time = eda.ensemble_counter_eda(X=train_df,input=test_df.values[instance_number],obj_class=obj_class,test=test_df,discrete_variables=discrete_variables,verbose=False,no_train=True)\n",
    "if df is not None:\n",
    "    times.append(time)\n",
    "    dfs.append(df)\n",
    "    models = {}\n",
    "    chg_varaibles = {}\n",
    "    prediction = {}\n",
    "    plausible = {}\n",
    "    for e in df[\"model\"].unique():\n",
    "        if e != \"input\":\n",
    "            models[e] = []\n",
    "            if e != \"baseline\":\n",
    "                chg_varaibles[e] = []\n",
    "                prediction[e] = []\n",
    "                plausible[e] = []\n",
    "\n",
    "    for row in df.values:\n",
    "        if row[0] == \"input\":\n",
    "            continue\n",
    "        models[row[0]].append(float(row[-2]))\n",
    "        if row[0] == \"baseline\":\n",
    "            continue\n",
    "        chg_varaibles[row[0]].append(float(row[-4]))   \n",
    "        prediction[row[0]].append(float(row[-3]))\n",
    "        plausible[row[0]].append(float(row[-1]))\n",
    "\n",
    "    baseline = models['baseline'][0]\n",
    "    model_distances = {}\n",
    "    for model_name in models.keys():\n",
    "        if model_name == \"input\" or model_name == \"baseline\":\n",
    "            continue\n",
    "        dict_dist = {\"distance\":1000000000000,\"baseline\":None,'distance_ind':0}\n",
    "        for ind, elem in enumerate(models[model_name]):\n",
    "            if dict_dist[\"distance\"] >= elem:\n",
    "                dict_dist[\"distance\"] = elem\n",
    "                dict_dist[\"distance_ind\"] = ind\n",
    "            if elem == baseline:\n",
    "                dict_dist[\"baseline\"] = elem\n",
    "                dict_dist[\"baseline_ind\"] = ind\n",
    "        dict_dist[\"chg_variables\"] = chg_varaibles[model_name][dict_dist[\"distance_ind\"]]\n",
    "        dict_dist[\"prediction\"] = prediction[model_name][dict_dist[\"distance_ind\"]]    \n",
    "        dict_dist[\"plausible\"] = plausible[model_name][dict_dist[\"distance_ind\"]] \n",
    "        dict_dist[\"accuracy\"] = accuracy[rem_models.index(model_name)]\n",
    "        model_distances[model_name] = dict_dist\n",
    "    results.append(model_distances)\n",
    "print(f'Media tiempos: {mean(times)}')"
   ]
  },
  {
   "cell_type": "code",
   "execution_count": 8,
   "metadata": {},
   "outputs": [
    {
     "name": "stdout",
     "output_type": "stream",
     "text": [
      "[{'nb': {'distance': 0.13888888888888887, 'baseline': 0.13888888888888887, 'distance_ind': 0, 'baseline_ind': 0, 'chg_variables': 2.0, 'prediction': 0.2188024580848269, 'plausible': 0.047619047619047616, 'accuracy': 0.8323699421965318}, 'tn': {'distance': 0.13888888888888887, 'baseline': 0.13888888888888887, 'distance_ind': 0, 'baseline_ind': 0, 'chg_variables': 2.0, 'prediction': 0.2188024580848269, 'plausible': 0.047619047619047616, 'accuracy': 0.9248554913294798}, 'fssj': {'distance': 100.0, 'baseline': None, 'distance_ind': 0, 'chg_variables': 0.0, 'prediction': 0.9999999778640568, 'plausible': 0.11904761904761904, 'accuracy': 0.6936416184971098}, 'kdb': {'distance': 0.19444444444444442, 'baseline': None, 'distance_ind': 0, 'chg_variables': 3.0, 'prediction': 0.2374806839909006, 'plausible': 0.0, 'accuracy': 0.9595375722543352}, 'tanhc': {'distance': 0.13888888888888887, 'baseline': 0.13888888888888887, 'distance_ind': 0, 'baseline_ind': 0, 'chg_variables': 2.0, 'prediction': 0.2292738568266951, 'plausible': 0.0, 'accuracy': 0.9421965317919075}}]\n"
     ]
    }
   ],
   "source": [
    "# Dictionary with all the results\n",
    "print(results)"
   ]
  },
  {
   "cell_type": "code",
   "execution_count": 9,
   "metadata": {},
   "outputs": [
    {
     "name": "stdout",
     "output_type": "stream",
     "text": [
      "acc\n"
     ]
    },
    {
     "data": {
      "text/html": [
       "<div>\n",
       "<style scoped>\n",
       "    .dataframe tbody tr th:only-of-type {\n",
       "        vertical-align: middle;\n",
       "    }\n",
       "\n",
       "    .dataframe tbody tr th {\n",
       "        vertical-align: top;\n",
       "    }\n",
       "\n",
       "    .dataframe thead th {\n",
       "        text-align: right;\n",
       "    }\n",
       "</style>\n",
       "<table border=\"1\" class=\"dataframe\">\n",
       "  <thead>\n",
       "    <tr style=\"text-align: right;\">\n",
       "      <th></th>\n",
       "      <th>model</th>\n",
       "      <th>buying</th>\n",
       "      <th>maint</th>\n",
       "      <th>doors</th>\n",
       "      <th>persons</th>\n",
       "      <th>lug_boot</th>\n",
       "      <th>safety</th>\n",
       "      <th>Chg Variables</th>\n",
       "      <th>Prediction score</th>\n",
       "      <th>Distance</th>\n",
       "      <th>Plausible</th>\n",
       "    </tr>\n",
       "  </thead>\n",
       "  <tbody>\n",
       "    <tr>\n",
       "      <th>0</th>\n",
       "      <td>input</td>\n",
       "      <td>high</td>\n",
       "      <td>vhigh</td>\n",
       "      <td>5more</td>\n",
       "      <td>more</td>\n",
       "      <td>small</td>\n",
       "      <td>low</td>\n",
       "      <td>-</td>\n",
       "      <td>-</td>\n",
       "      <td>-</td>\n",
       "      <td>-</td>\n",
       "    </tr>\n",
       "    <tr>\n",
       "      <th>1</th>\n",
       "      <td>nb</td>\n",
       "      <td>med</td>\n",
       "      <td>-</td>\n",
       "      <td>-</td>\n",
       "      <td>-</td>\n",
       "      <td>-</td>\n",
       "      <td>high</td>\n",
       "      <td>2</td>\n",
       "      <td>0.218802</td>\n",
       "      <td>0.138889</td>\n",
       "      <td>0.047619</td>\n",
       "    </tr>\n",
       "    <tr>\n",
       "      <th>2</th>\n",
       "      <td>tn</td>\n",
       "      <td>med</td>\n",
       "      <td>-</td>\n",
       "      <td>-</td>\n",
       "      <td>-</td>\n",
       "      <td>-</td>\n",
       "      <td>high</td>\n",
       "      <td>2</td>\n",
       "      <td>0.218802</td>\n",
       "      <td>0.138889</td>\n",
       "      <td>0.047619</td>\n",
       "    </tr>\n",
       "    <tr>\n",
       "      <th>3</th>\n",
       "      <td>fssj</td>\n",
       "      <td>-</td>\n",
       "      <td>-</td>\n",
       "      <td>-</td>\n",
       "      <td>-</td>\n",
       "      <td>-</td>\n",
       "      <td>-</td>\n",
       "      <td>0</td>\n",
       "      <td>1.0</td>\n",
       "      <td>100.0</td>\n",
       "      <td>0.119048</td>\n",
       "    </tr>\n",
       "    <tr>\n",
       "      <th>4</th>\n",
       "      <td>kdb</td>\n",
       "      <td>-</td>\n",
       "      <td>med</td>\n",
       "      <td>4</td>\n",
       "      <td>-</td>\n",
       "      <td>-</td>\n",
       "      <td>high</td>\n",
       "      <td>3</td>\n",
       "      <td>0.237481</td>\n",
       "      <td>0.194444</td>\n",
       "      <td>0.0</td>\n",
       "    </tr>\n",
       "    <tr>\n",
       "      <th>5</th>\n",
       "      <td>tanhc</td>\n",
       "      <td>-</td>\n",
       "      <td>med</td>\n",
       "      <td>-</td>\n",
       "      <td>-</td>\n",
       "      <td>-</td>\n",
       "      <td>high</td>\n",
       "      <td>2</td>\n",
       "      <td>0.229274</td>\n",
       "      <td>0.138889</td>\n",
       "      <td>0.0</td>\n",
       "    </tr>\n",
       "    <tr>\n",
       "      <th>6</th>\n",
       "      <td>baseline</td>\n",
       "      <td>-</td>\n",
       "      <td>med</td>\n",
       "      <td>-</td>\n",
       "      <td>-</td>\n",
       "      <td>-</td>\n",
       "      <td>high</td>\n",
       "      <td>2</td>\n",
       "      <td>-</td>\n",
       "      <td>0.138889</td>\n",
       "      <td>-</td>\n",
       "    </tr>\n",
       "  </tbody>\n",
       "</table>\n",
       "</div>"
      ],
      "text/plain": [
       "      model buying  maint  doors persons lug_boot safety Chg Variables  \\\n",
       "0     input   high  vhigh  5more    more    small    low             -   \n",
       "1        nb    med      -      -       -        -   high             2   \n",
       "2        tn    med      -      -       -        -   high             2   \n",
       "3      fssj      -      -      -       -        -      -             0   \n",
       "4       kdb      -    med      4       -        -   high             3   \n",
       "5     tanhc      -    med      -       -        -   high             2   \n",
       "6  baseline      -    med      -       -        -   high             2   \n",
       "\n",
       "  Prediction score  Distance Plausible  \n",
       "0                -         -         -  \n",
       "1         0.218802  0.138889  0.047619  \n",
       "2         0.218802  0.138889  0.047619  \n",
       "3              1.0     100.0  0.119048  \n",
       "4         0.237481  0.194444       0.0  \n",
       "5         0.229274  0.138889       0.0  \n",
       "6                -  0.138889         -  "
      ]
     },
     "metadata": {},
     "output_type": "display_data"
    }
   ],
   "source": [
    "# Getting the result dataframe with all models\n",
    "print(obj_class)\n",
    "display(df)"
   ]
  }
 ],
 "metadata": {
  "kernelspec": {
   "display_name": "counter",
   "language": "python",
   "name": "python3"
  },
  "language_info": {
   "codemirror_mode": {
    "name": "ipython",
    "version": 3
   },
   "file_extension": ".py",
   "mimetype": "text/x-python",
   "name": "python",
   "nbconvert_exporter": "python",
   "pygments_lexer": "ipython3",
   "version": "3.10.12"
  }
 },
 "nbformat": 4,
 "nbformat_minor": 2
}
